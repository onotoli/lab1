{
  "nbformat": 4,
  "nbformat_minor": 0,
  "metadata": {
    "colab": {
      "provenance": [],
      "authorship_tag": "ABX9TyOcVEXFVoi1li9hAkBj5rb0",
      "include_colab_link": true
    },
    "kernelspec": {
      "name": "python3",
      "display_name": "Python 3"
    },
    "language_info": {
      "name": "python"
    }
  },
  "cells": [
    {
      "cell_type": "markdown",
      "metadata": {
        "id": "view-in-github",
        "colab_type": "text"
      },
      "source": [
        "<a href=\"https://colab.research.google.com/github/onotoli/lab1/blob/main/lab1.ipynb\" target=\"_parent\"><img src=\"https://colab.research.google.com/assets/colab-badge.svg\" alt=\"Open In Colab\"/></a>"
      ]
    },
    {
      "cell_type": "markdown",
      "source": [
        "# **Асимптотическая сложность**"
      ],
      "metadata": {
        "id": "eT2Ok6ynsFcL"
      }
    },
    {
      "cell_type": "code",
      "source": [
        "from matplotlib import pyplot as plt\n",
        "import pandas as pd\n",
        "import numpy as np\n",
        "from scipy.optimize import curve_fit"
      ],
      "metadata": {
        "id": "SgaTdrJlWNh_"
      },
      "execution_count": 2,
      "outputs": []
    },
    {
      "cell_type": "markdown",
      "source": [
        "# Поиск"
      ],
      "metadata": {
        "id": "esOadWOzsegY"
      }
    },
    {
      "cell_type": "markdown",
      "source": [
        "# Начнём с линейного поиска"
      ],
      "metadata": {
        "id": "dzwJnyeoZZCH"
      }
    },
    {
      "cell_type": "code",
      "source": [
        "lin_data = pd.read_csv(\"lineary_data.csv\", delimiter=\";\", names=['N', 'lineary_Search'])\n",
        "\n",
        "lin_data"
      ],
      "metadata": {
        "id": "aNnYXcumZnM2"
      },
      "execution_count": null,
      "outputs": []
    },
    {
      "cell_type": "code",
      "source": [
        "def line(x, a, b):\n",
        "    return a*x+b\n",
        "\n",
        "popt, useless = curve_fit(line, lin_data[\"N\"].tolist(), lin_data[\"lineary_Search\"].tolist())\n",
        "\n",
        "a, b = popt\n",
        "\n",
        "y = line(lin_data['N'], a, b)"
      ],
      "metadata": {
        "id": "1uXCuicybA3r"
      },
      "execution_count": 20,
      "outputs": []
    },
    {
      "cell_type": "code",
      "source": [
        "a = plt.subplot()\n",
        "a.scatter(lin_data[\"N\"], lin_data[\"lineary_Search\"], label='high income low saving', color=(1, 0 , 0))\n",
        "a.plot(lin_data['N'], y, color=(1, 0 , 0))\n",
        "plt.title(\"Линейный поиск\")\n",
        "a.set_xlabel(\"Число элементов в массиве\")\n",
        "a.set_ylabel(\"Время обработки\")"
      ],
      "metadata": {
        "colab": {
          "base_uri": "https://localhost:8080/",
          "height": 312
        },
        "id": "P6gLGsO2fWnz",
        "outputId": "317e9c75-023b-457c-90fb-da42569b6c02"
      },
      "execution_count": 21,
      "outputs": [
        {
          "output_type": "execute_result",
          "data": {
            "text/plain": [
              "Text(0, 0.5, 'Время обработки')"
            ]
          },
          "metadata": {},
          "execution_count": 21
        },
        {
          "output_type": "display_data",
          "data": {
            "text/plain": [
              "<Figure size 432x288 with 1 Axes>"
            ],
            "image/png": "[encoded data removed]"
          },
          "metadata": {
            "needs_background": "light"
          }
        }
      ]
    },
    {
      "cell_type": "markdown",
      "source": [
        "Как видно из графика, t(N) зависит линейно, но в некоторый момент происходит излом. Это связано с тем, что в некоторый момент программа не модет реализовывать метод, требующий мало памяти и мало времени. В этот момент программа начинает брать больше памяти, но и тратить больше времени."
      ],
      "metadata": {
        "id": "-dUAOGZqpCGZ"
      }
    },
    {
      "cell_type": "markdown",
      "source": [
        "# Теперь проверим асимптотику бинарного поиска"
      ],
      "metadata": {
        "id": "OJ6vGvlRgxWY"
      }
    },
    {
      "cell_type": "code",
      "source": [
        "bin_data = pd.read_csv(\"binary_data.csv\", delimiter=\";\", names=['N', 'binary_Search'])\n",
        "\n",
        "bin_data"
      ],
      "metadata": {
        "id": "pR_xFRemg_cu"
      },
      "execution_count": null,
      "outputs": []
    },
    {
      "cell_type": "code",
      "source": [
        "def logarifm(x, a, b, c):\n",
        "    return a*np.log(b+x)+c\n",
        "\n",
        "popt, useless = curve_fit(logarifm, bin_data[\"N\"].tolist(), bin_data[\"binary_Search\"].tolist())\n",
        "\n",
        "a, b, c = popt\n",
        "\n",
        "y = logarifm(bin_data['N'], a, b, c)"
      ],
      "metadata": {
        "colab": {
          "base_uri": "https://localhost:8080/"
        },
        "id": "F-HeRnKPhVe0",
        "outputId": "e5d8a5bf-61c9-4225-d089-e7d1328284a6"
      },
      "execution_count": 26,
      "outputs": [
        {
          "output_type": "stream",
          "name": "stderr",
          "text": [
            "<ipython-input-26-366e193ba9ba>:2: RuntimeWarning: invalid value encountered in log\n",
            "  return a*np.log(b+x)+c\n"
          ]
        }
      ]
    },
    {
      "cell_type": "code",
      "source": [
        "fig, ax = plt.subplots()\n",
        "ax.scatter(bin_data[\"N\"], bin_data[\"binary_Search\"], color=(1, 0, 0))\n",
        "ax.plot(bin_data['N'], y, color=(1, 0, 0))\n",
        "\n",
        "plt.title(\"Бинарный поиск\")\n",
        "ax.set_xlabel(\"Число элементов в массиве\")\n",
        "ax.set_ylabel(\"Время обработки\")"
      ],
      "metadata": {
        "colab": {
          "base_uri": "https://localhost:8080/",
          "height": 312
        },
        "id": "aWFVAp9XiUsy",
        "outputId": "9c950dbf-fbee-43b1-ea5e-56dcdad3537c"
      },
      "execution_count": 27,
      "outputs": [
        {
          "output_type": "execute_result",
          "data": {
            "text/plain": [
              "Text(0, 0.5, 'Время обработки')"
            ]
          },
          "metadata": {},
          "execution_count": 27
        },
        {
          "output_type": "display_data",
          "data": {
            "text/plain": [
              "<Figure size 432x288 with 1 Axes>"
            ],
            "image/png": "[encoded data removed]"
          },
          "metadata": {
            "needs_background": "light"
          }
        }
      ]
    },
    {
      "cell_type": "markdown",
      "source": [
        "При малых N зависимость очень похожа на логарифм. Потом она больше похожа на прямую. Возжно, это связано с тем, что в окрестности единицы логарифм приближается прямой."
      ],
      "metadata": {
        "id": "vZRiWwO_pxNy"
      }
    },
    {
      "cell_type": "markdown",
      "source": [
        "# Сумма двух"
      ],
      "metadata": {
        "id": "HAR7a4RYBnv2"
      }
    },
    {
      "cell_type": "markdown",
      "source": [
        "# Полный перебор"
      ],
      "metadata": {
        "id": "WlcitUEe2VrD"
      }
    },
    {
      "cell_type": "code",
      "source": [
        "sum_data = pd.read_csv(\"sum_data.csv\", delimiter=\";\", names=['N', 'sum_Search'])\n",
        "\n",
        "sum_data"
      ],
      "metadata": {
        "id": "62RFDk1rBtGP"
      },
      "execution_count": null,
      "outputs": []
    },
    {
      "cell_type": "code",
      "source": [
        "a = plt.subplot()\n",
        "a.scatter(sum_data['N'], sum_data['sum_Search'], color=(1, 0 , 0))\n",
        "plt.title(\"Полный перебор\")\n",
        "a.set_xlabel(\"Число элементов в массиве\")\n",
        "a.set_ylabel(\"Время обработки\")"
      ],
      "metadata": {
        "colab": {
          "base_uri": "https://localhost:8080/",
          "height": 312
        },
        "id": "lO3J3nFe7aJS",
        "outputId": "4690ac33-2120-437e-a624-01d7475f51b9"
      },
      "execution_count": 8,
      "outputs": [
        {
          "output_type": "execute_result",
          "data": {
            "text/plain": [
              "Text(0, 0.5, 'Время обработки')"
            ]
          },
          "metadata": {},
          "execution_count": 8
        },
        {
          "output_type": "display_data",
          "data": {
            "text/plain": [
              "<Figure size 432x288 with 1 Axes>"
            ],
            "image/png": "[encoded data removed]"
          },
          "metadata": {
            "needs_background": "light"
          }
        }
      ]
    },
    {
      "cell_type": "markdown",
      "source": [
        "Полученный график позволяет утверждать, что алгоритм имеет квадратичную асимптотику"
      ],
      "metadata": {
        "id": "mRVbfhbm-Oym"
      }
    },
    {
      "cell_type": "markdown",
      "source": [
        "# Бинарный поиск"
      ],
      "metadata": {
        "id": "kr6eK2uIB_tQ"
      }
    },
    {
      "cell_type": "code",
      "source": [
        "binsum_data = pd.read_csv(\"binsum_data.csv\", delimiter=\";\", names=['N', 'binsum_Search'])\n",
        "\n",
        "binsum_data"
      ],
      "metadata": {
        "id": "nKG0bOVGCRNk"
      },
      "execution_count": null,
      "outputs": []
    },
    {
      "cell_type": "code",
      "source": [
        "a = plt.subplot()\n",
        "a.scatter(binsum_data['N'], binsum_data['binsum_Search'], color=(1, 0 , 0))\n",
        "plt.title(\"Бинарный поиск\")\n",
        "a.set_xlabel(\"Число элементов в массиве\")\n",
        "a.set_ylabel(\"Время обработки\")"
      ],
      "metadata": {
        "colab": {
          "base_uri": "https://localhost:8080/",
          "height": 312
        },
        "id": "J855-cYsCmDu",
        "outputId": "474fb0f2-acb2-4951-b10e-2b2554ffeb80"
      },
      "execution_count": 12,
      "outputs": [
        {
          "output_type": "execute_result",
          "data": {
            "text/plain": [
              "Text(0, 0.5, 'Время обработки')"
            ]
          },
          "metadata": {},
          "execution_count": 12
        },
        {
          "output_type": "display_data",
          "data": {
            "text/plain": [
              "<Figure size 432x288 with 1 Axes>"
            ],
            "image/png": "[encoded data removed]"
          },
          "metadata": {
            "needs_background": "light"
          }
        }
      ]
    },
    {
      "cell_type": "markdown",
      "source": [
        "При N > 400 000 t(N) зависит линейно, что подтверждает линейность асимптотики."
      ],
      "metadata": {
        "id": "XqBccSKvD9rB"
      }
    },
    {
      "cell_type": "markdown",
      "source": [
        "# Часто используемый элемент"
      ],
      "metadata": {
        "id": "fjt_Ep8Ax8Ki"
      }
    },
    {
      "cell_type": "markdown",
      "source": [
        " # Стратегия А"
      ],
      "metadata": {
        "id": "MZbMAHPAyTDi"
      }
    },
    {
      "cell_type": "markdown",
      "source": [
        "Построим асимптотику в случае равномерного распределения искомого элемента массива"
      ],
      "metadata": {
        "id": "H7zBtoP7yXzz"
      }
    },
    {
      "cell_type": "code",
      "source": [
        "A_rand = pd.read_csv(\"A_rand.csv\", delimiter=\";\", names=['N', 'A_rand'])\n",
        "\n",
        "A_rand"
      ],
      "metadata": {
        "id": "FAHEK9y5y561"
      },
      "execution_count": null,
      "outputs": []
    },
    {
      "cell_type": "code",
      "source": [
        "a = plt.subplot()\n",
        "a.scatter(A_rand['N'], A_rand['A_rand'], color=(1, 0 , 0))\n",
        "plt.title(\"Стратегия А. Случай 1\")\n",
        "a.set_xlabel(\"Число элементов в массиве\")\n",
        "a.set_ylabel(\"Время обработки\")"
      ],
      "metadata": {
        "colab": {
          "base_uri": "https://localhost:8080/",
          "height": 312
        },
        "id": "kapUCLs6ztw9",
        "outputId": "f380fc62-24e5-4451-a773-ac768d31e83f"
      },
      "execution_count": 4,
      "outputs": [
        {
          "output_type": "execute_result",
          "data": {
            "text/plain": [
              "Text(0, 0.5, 'Время обработки')"
            ]
          },
          "metadata": {},
          "execution_count": 4
        },
        {
          "output_type": "display_data",
          "data": {
            "text/plain": [
              "<Figure size 432x288 with 1 Axes>"
            ],
            "image/png": "[encoded data removed]"
          },
          "metadata": {
            "needs_background": "light"
          }
        }
      ]
    },
    {
      "cell_type": "markdown",
      "source": [
        "Асимптотика линейная"
      ],
      "metadata": {
        "id": "Hlbjlv5R0e8d"
      }
    },
    {
      "cell_type": "markdown",
      "source": [
        "Теперь рассмотрим случай, когда каждую вторую итеррацию алгоритм ищет элемент, стоящий на расстоянии от начала исходного массива, равном одной трети длины массива, каждый третий -- на расстояниий, равном одной седьмой длины массива, каждый четвёртый -- на расстояниий, равном одной пятой длины массива, каждый пятый -- на расстояниий, равном одной четвёртой длины массива."
      ],
      "metadata": {
        "id": "Jq7MNRq712nd"
      }
    },
    {
      "cell_type": "code",
      "source": [
        "A_det = pd.read_csv(\"A_det.csv\", delimiter=\";\", names=['N', 'A_det'])\n",
        "\n",
        "A_det"
      ],
      "metadata": {
        "id": "DojWHtDN3RgR"
      },
      "execution_count": null,
      "outputs": []
    },
    {
      "cell_type": "code",
      "source": [
        "a = plt.subplot()\n",
        "a.scatter(A_det['N'], A_det['A_det'], color=(1, 0 , 0))\n",
        "plt.title(\"Стратегия А. Случай 2\")\n",
        "a.set_xlabel(\"Число элементов в массиве\")\n",
        "a.set_ylabel(\"Время обработки\")"
      ],
      "metadata": {
        "colab": {
          "base_uri": "https://localhost:8080/",
          "height": 312
        },
        "id": "6I_bFiui3s7I",
        "outputId": "e4824f3a-4bce-4390-d783-f217baefc615"
      },
      "execution_count": 21,
      "outputs": [
        {
          "output_type": "execute_result",
          "data": {
            "text/plain": [
              "Text(0, 0.5, 'Время обработки')"
            ]
          },
          "metadata": {},
          "execution_count": 21
        },
        {
          "output_type": "display_data",
          "data": {
            "text/plain": [
              "<Figure size 432x288 with 1 Axes>"
            ],
            "image/png": "[encoded data removed]"
          },
          "metadata": {
            "needs_background": "light"
          }
        }
      ]
    },
    {
      "cell_type": "markdown",
      "source": [
        "Асимптотика тоже линейная, но в данном случае код исполняется медленнее, чем в первом, что страннно)"
      ],
      "metadata": {
        "id": "OpJUz-ap5EUj"
      }
    },
    {
      "cell_type": "markdown",
      "source": [
        "# Стратегия B"
      ],
      "metadata": {
        "id": "WkYovwSC6wXk"
      }
    },
    {
      "cell_type": "markdown",
      "source": [
        "Равномерный случай"
      ],
      "metadata": {
        "id": "7m28tr6w61Na"
      }
    },
    {
      "cell_type": "code",
      "source": [
        "B_rand = pd.read_csv(\"B_rand.csv\", delimiter=\";\", names=['N', 'B_rand'])\n",
        "\n",
        "B_rand"
      ],
      "metadata": {
        "id": "4S2YVfxgDZdS"
      },
      "execution_count": null,
      "outputs": []
    },
    {
      "cell_type": "code",
      "source": [
        "a = plt.subplot()\n",
        "a.scatter(B_rand['N'], B_rand['B_rand'], color=(1, 0 , 0))\n",
        "plt.title(\"Стратегия B. Случай 1\")\n",
        "a.set_xlabel(\"Число элементов в массиве\")\n",
        "a.set_ylabel(\"Время обработки\")"
      ],
      "metadata": {
        "colab": {
          "base_uri": "https://localhost:8080/",
          "height": 312
        },
        "id": "WkcVMgl2FPQ4",
        "outputId": "cb190ae8-5d2a-44a5-8dde-84c005420e77"
      },
      "execution_count": 19,
      "outputs": [
        {
          "output_type": "execute_result",
          "data": {
            "text/plain": [
              "Text(0, 0.5, 'Время обработки')"
            ]
          },
          "metadata": {},
          "execution_count": 19
        },
        {
          "output_type": "display_data",
          "data": {
            "text/plain": [
              "<Figure size 432x288 with 1 Axes>"
            ],
            "image/png": "[encoded data removed]"
          },
          "metadata": {
            "needs_background": "light"
          }
        }
      ]
    },
    {
      "cell_type": "markdown",
      "source": [
        "Асимптотика линейная"
      ],
      "metadata": {
        "id": "yWvJ5FPzHTG7"
      }
    },
    {
      "cell_type": "markdown",
      "source": [
        "Теперь рассмотрим случай, когда каждую вторую итеррацию алгоритм ищет элемент, стоящий на расстоянии от начала исходного массива, равном одной трети длины массива, каждый третий -- на расстояниий, равном одной седьмой длины массива, каждый четвёртый -- на расстояниий, равном одной пятой длины массива, каждый пятый -- на расстояниий, равном одной четвёртой длины массива."
      ],
      "metadata": {
        "id": "6J3lj3Dz-72K"
      }
    },
    {
      "cell_type": "code",
      "source": [
        "B_det = pd.read_csv(\"B_det.csv\", delimiter=\";\", names=['N', 'B_det'])\n",
        "\n",
        "B_det"
      ],
      "metadata": {
        "id": "7MRpNYE6BisK"
      },
      "execution_count": null,
      "outputs": []
    },
    {
      "cell_type": "code",
      "source": [
        "a = plt.subplot()\n",
        "a.scatter(B_det['N'], B_det['B_det'], color=(1, 0 , 0))\n",
        "plt.title(\"Стратегия B. Случай 2\")\n",
        "a.set_xlabel(\"Число элементов в массиве\")\n",
        "a.set_ylabel(\"Время обработки\")"
      ],
      "metadata": {
        "colab": {
          "base_uri": "https://localhost:8080/",
          "height": 312
        },
        "id": "ruJ6IGcsBiny",
        "outputId": "359a2148-6f5f-44bb-cae6-e298b3d2d928"
      },
      "execution_count": 9,
      "outputs": [
        {
          "output_type": "execute_result",
          "data": {
            "text/plain": [
              "Text(0, 0.5, 'Время обработки')"
            ]
          },
          "metadata": {},
          "execution_count": 9
        },
        {
          "output_type": "display_data",
          "data": {
            "text/plain": [
              "<Figure size 432x288 with 1 Axes>"
            ],
            "image/png": "[encoded data removed]"
          },
          "metadata": {
            "needs_background": "light"
          }
        }
      ]
    },
    {
      "cell_type": "markdown",
      "source": [
        "Асимптотика линейная, но этот случай медленнее, чем равномерный"
      ],
      "metadata": {
        "id": "BvUiLJTxHZqQ"
      }
    },
    {
      "cell_type": "markdown",
      "source": [
        "# Стратегия C"
      ],
      "metadata": {
        "id": "_Nh2PmxXCFXg"
      }
    },
    {
      "cell_type": "markdown",
      "source": [
        "Равномерный случай"
      ],
      "metadata": {
        "id": "zAaur9kFCKWR"
      }
    },
    {
      "cell_type": "code",
      "source": [
        "C_rand = pd.read_csv(\"C_rand.csv\", delimiter=\";\", names=['N', 'C_rand'])\n",
        "\n",
        "C_rand"
      ],
      "metadata": {
        "id": "LMrkY8FTFTk5"
      },
      "execution_count": null,
      "outputs": []
    },
    {
      "cell_type": "code",
      "source": [
        "a = plt.subplot()\n",
        "a.scatter(C_rand['N'], C_rand['C_rand'], color=(1, 0 , 0))\n",
        "plt.title(\"Стратегия С. Случай 1\")\n",
        "a.set_xlabel(\"Число элементов в массиве\")\n",
        "a.set_ylabel(\"Время обработки\")"
      ],
      "metadata": {
        "colab": {
          "base_uri": "https://localhost:8080/",
          "height": 312
        },
        "id": "vuedJNAaFUJb",
        "outputId": "992f38c8-8109-457f-97e2-81dea7134383"
      },
      "execution_count": 18,
      "outputs": [
        {
          "output_type": "execute_result",
          "data": {
            "text/plain": [
              "Text(0, 0.5, 'Время обработки')"
            ]
          },
          "metadata": {},
          "execution_count": 18
        },
        {
          "output_type": "display_data",
          "data": {
            "text/plain": [
              "<Figure size 432x288 with 1 Axes>"
            ],
            "image/png": "[encoded data removed]"
          },
          "metadata": {
            "needs_background": "light"
          }
        }
      ]
    },
    {
      "cell_type": "markdown",
      "source": [
        "Теперь рассмотрим случай, когда каждую вторую итеррацию алгоритм ищет элемент, стоящий на расстоянии от начала исходного массива, равном одной трети длины массива, каждый третий -- на расстояниий, равном одной седьмой длины массива, каждый четвёртый -- на расстояниий, равном одной пятой длины массива, каждый пятый -- на расстояниий, равном одной четвёртой длины массива."
      ],
      "metadata": {
        "id": "zYMFqfGYCUfC"
      }
    },
    {
      "cell_type": "code",
      "source": [
        "C_det = pd.read_csv(\"C_det.csv\", delimiter=\";\", names=['N', 'C_det'])\n",
        "\n",
        "C_det"
      ],
      "metadata": {
        "id": "EUbGD1AJChLj"
      },
      "execution_count": null,
      "outputs": []
    },
    {
      "cell_type": "code",
      "source": [
        "a = plt.subplot()\n",
        "a.scatter(C_det['N'], C_det['C_det'], color=(1, 0 , 0))\n",
        "plt.title(\"Стратегия C. Случай 2\")\n",
        "a.set_xlabel(\"Число элементов в массиве\")\n",
        "a.set_ylabel(\"Время обработки\")"
      ],
      "metadata": {
        "colab": {
          "base_uri": "https://localhost:8080/",
          "height": 312
        },
        "id": "gCdmgKxNCqS4",
        "outputId": "a3d4d46c-22b2-4da1-fd55-d777c67f03d4"
      },
      "execution_count": 11,
      "outputs": [
        {
          "output_type": "execute_result",
          "data": {
            "text/plain": [
              "Text(0, 0.5, 'Время обработки')"
            ]
          },
          "metadata": {},
          "execution_count": 11
        },
        {
          "output_type": "display_data",
          "data": {
            "text/plain": [
              "<Figure size 432x288 with 1 Axes>"
            ],
            "image/png": "[encoded data removed]"
          },
          "metadata": {
            "needs_background": "light"
          }
        }
      ]
    },
    {
      "cell_type": "markdown",
      "source": [
        "Асимптотика линейная, но этот случай медленнее, чем равномерный"
      ],
      "metadata": {
        "id": "hWk4fBNKIUj0"
      }
    },
    {
      "cell_type": "markdown",
      "source": [
        "# Вывод"
      ],
      "metadata": {
        "id": "wGMVdHpSId3U"
      }
    },
    {
      "cell_type": "markdown",
      "source": [
        "Каждая стратегия в каждом случае имеет линейную асимптотику. В равномерном случае все стратегии работают с одинаковой скоростью. В неравномерном случае самой быстрой является стартегия C, на втором месте по скорости стоит стратегия A, стратегия B -- самая медленная.\n",
        "Каждая стратегия работает быстрее в равномерном случае, чем в неравномерном."
      ],
      "metadata": {
        "id": "bKBKiIckI0l8"
      }
    }
  ]
}